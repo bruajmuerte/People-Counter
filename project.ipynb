{
 "cells": [
  {
   "cell_type": "code",
   "execution_count": 1,
   "metadata": {},
   "outputs": [],
   "source": [
    "import serial "
   ]
  },
  {
   "cell_type": "code",
   "execution_count": 2,
   "metadata": {},
   "outputs": [],
   "source": [
    "serial. __version__\n",
    "import numpy as np"
   ]
  },
  {
   "cell_type": "code",
   "execution_count": 3,
   "metadata": {},
   "outputs": [],
   "source": [
    "test=[]\n",
    "other=[]"
   ]
  },
  {
   "cell_type": "code",
   "execution_count": 23,
   "metadata": {},
   "outputs": [],
   "source": [
    "import time\n",
    "ser = serial.Serial('COM3', 9600)\n",
    "time.sleep(2)\n",
    "b = ser.readline()\n",
    "data_str=bytes.decode(b)\n"
   ]
  },
  {
   "cell_type": "code",
   "execution_count": 16,
   "metadata": {
    "scrolled": true
   },
   "outputs": [
    {
     "ename": "IndexError",
     "evalue": "list index out of range",
     "output_type": "error",
     "traceback": [
      "\u001b[1;31m---------------------------------------------------------------------------\u001b[0m",
      "\u001b[1;31mIndexError\u001b[0m                                Traceback (most recent call last)",
      "\u001b[1;32m<ipython-input-16-813d523fd473>\u001b[0m in \u001b[0;36m<module>\u001b[1;34m\u001b[0m\n\u001b[0;32m      6\u001b[0m     \u001b[1;32mif\u001b[0m  \u001b[0mdata_str\u001b[0m\u001b[1;33m[\u001b[0m\u001b[1;36m6\u001b[0m\u001b[1;33m]\u001b[0m\u001b[1;33m==\u001b[0m\u001b[1;34m'1'\u001b[0m\u001b[1;33m:\u001b[0m\u001b[1;33m\u001b[0m\u001b[1;33m\u001b[0m\u001b[0m\n\u001b[0;32m      7\u001b[0m         \u001b[0mtest\u001b[0m\u001b[1;33m.\u001b[0m\u001b[0minsert\u001b[0m\u001b[1;33m(\u001b[0m\u001b[1;36m0\u001b[0m\u001b[1;33m,\u001b[0m\u001b[0mdata_str\u001b[0m\u001b[1;33m)\u001b[0m\u001b[1;33m\u001b[0m\u001b[1;33m\u001b[0m\u001b[0m\n\u001b[1;32m----> 8\u001b[1;33m     \u001b[0ma\u001b[0m\u001b[1;33m=\u001b[0m\u001b[0mtest\u001b[0m\u001b[1;33m[\u001b[0m\u001b[1;36m0\u001b[0m\u001b[1;33m]\u001b[0m\u001b[1;33m\u001b[0m\u001b[1;33m\u001b[0m\u001b[0m\n\u001b[0m\u001b[0;32m      9\u001b[0m     \u001b[0mc\u001b[0m\u001b[1;33m=\u001b[0m\u001b[0ma\u001b[0m\u001b[1;33m[\u001b[0m\u001b[1;36m8\u001b[0m\u001b[1;33m]\u001b[0m\u001b[1;33m\u001b[0m\u001b[1;33m\u001b[0m\u001b[0m\n\u001b[0;32m     10\u001b[0m     \u001b[0me\u001b[0m\u001b[1;33m=\u001b[0m\u001b[0mint\u001b[0m\u001b[1;33m(\u001b[0m\u001b[0mc\u001b[0m\u001b[1;33m)\u001b[0m\u001b[1;33m\u001b[0m\u001b[1;33m\u001b[0m\u001b[0m\n",
      "\u001b[1;31mIndexError\u001b[0m: list index out of range"
     ]
    }
   ],
   "source": [
    "\n",
    "\n",
    "for i in range(0,10):\n",
    "    b=ser.readline()\n",
    "    time.sleep(.5)\n",
    "    data_str=bytes.decode(b)\n",
    "\n",
    "    if  data_str[6]=='1':\n",
    "        test.insert(0,data_str)\n",
    "    a=test[0]\n",
    "    c=a[8]\n",
    "    e=int(c)\n",
    "       \n",
    "    if data_str[6]=='2':\n",
    "        other.insert(0,data_str)\n",
    "    z=other[0]\n",
    "    d=z[8]\n",
    "    g=int(c)\n",
    "    if e>g:\n",
    "        print('hi')\n",
    "    if g>e:\n",
    "        print('hello')\n",
    "    if g==e:\n",
    "        print('no one is there')\n",
    "    "
   ]
  },
  {
   "cell_type": "code",
   "execution_count": 20,
   "metadata": {},
   "outputs": [
    {
     "name": "stdout",
     "output_type": "stream",
     "text": [
      "b'\\xfdVernier Format 1\\r\\n'\n"
     ]
    }
   ],
   "source": [
    "print(b)"
   ]
  },
  {
   "cell_type": "code",
   "execution_count": 24,
   "metadata": {},
   "outputs": [
    {
     "name": "stdout",
     "output_type": "stream",
     "text": [
      "sVernier Format 1\r\n",
      "\n"
     ]
    }
   ],
   "source": [
    "print(data_str)"
   ]
  },
  {
   "cell_type": "code",
   "execution_count": null,
   "metadata": {},
   "outputs": [],
   "source": [
    "print(other)"
   ]
  },
  {
   "cell_type": "code",
   "execution_count": 25,
   "metadata": {},
   "outputs": [],
   "source": [
    "ser.close()"
   ]
  },
  {
   "cell_type": "code",
   "execution_count": null,
   "metadata": {},
   "outputs": [],
   "source": [
    "x=other[0]\n",
    "x[8]"
   ]
  },
  {
   "cell_type": "code",
   "execution_count": null,
   "metadata": {},
   "outputs": [],
   "source": [
    "import numpy as np"
   ]
  },
  {
   "cell_type": "code",
   "execution_count": null,
   "metadata": {},
   "outputs": [],
   "source": [
    "a=np.array(b)"
   ]
  },
  {
   "cell_type": "code",
   "execution_count": null,
   "metadata": {},
   "outputs": [],
   "source": [
    "a=b'0\\r\\n'\n",
    "b'1\\r\\n'\n",
    "b'0\\r\\n'\n",
    "b'1\\r\\n'\n",
    "b'0\\r\\n'\n",
    "b'1\\r\\n'\n",
    "b'0\\r\\n'\n",
    "b'1\\r\\n'\n",
    "b'0\\r\\n'\n",
    "b'1\\r\\n'\n",
    "b'0\\r\\n'\n",
    "b'1\\r\\n'\n",
    "b'0\\r\\n'\n",
    "b'1\\r\\n'\n",
    "b'0\\r\\n'\n",
    "b'1\\r\\n'\n",
    "b'0\\r\\n'\n",
    "b'1\\r\\n'\n",
    "b'0\\r\\n'\n",
    "b'1\\r\\n'\n",
    "b'0\\r\\n'\n",
    "b'1\\r\\n'\n",
    "b'0\\r\\n'\n",
    "b'1\\r\\n'\n",
    "b'0\\r\\n'\n",
    "b'1\\r\\n'\n",
    "b'0\\r\\n'\n",
    "b'1\\r\\n'\n",
    "b'0\\r\\n'\n",
    "b'1\\r\\n'\n",
    "b'0\\r\\n'\n",
    "b'1\\r\\n'\n",
    "b'0\\r\\n'\n",
    "b'1\\r\\n'\n",
    "b'0\\r\\n'\n",
    "b'1\\r\\n'\n",
    "b'0\\r\\n'\n",
    "b'1\\r\\n'\n",
    "b'0\\r\\n'\n",
    "b'1\\r\\n'\n",
    "b'0\\r\\n'\n",
    "b'1\\r\\n'\n",
    "b'0\\r\\n'\n",
    "b'1\\r\\n'\n",
    "b'0\\r\\n'\n",
    "b'1\\r\\n'\n",
    "b'0\\r\\n'\n",
    "b'1\\r\\n'"
   ]
  },
  {
   "cell_type": "code",
   "execution_count": null,
   "metadata": {},
   "outputs": [],
   "source": [
    "a"
   ]
  },
  {
   "cell_type": "code",
   "execution_count": null,
   "metadata": {},
   "outputs": [],
   "source": [
    "b=np.array(a)"
   ]
  },
  {
   "cell_type": "code",
   "execution_count": null,
   "metadata": {},
   "outputs": [],
   "source": [
    "b"
   ]
  },
  {
   "cell_type": "code",
   "execution_count": null,
   "metadata": {},
   "outputs": [],
   "source": [
    "if data_str[6]=='1':\n",
    "        if data_str[8]=='0':\n",
    "                print('no one there')\n",
    "        if data_str[8]=='1':\n",
    "                print('someone there')\n",
    "    if data_str[6]=='2':\n",
    "        if data_str[8]=='0':\n",
    "                print('really no is there')\n",
    "        if data_str[8]=='1':\n",
    "                print('someone there')"
   ]
  }
 ],
 "metadata": {
  "kernelspec": {
   "display_name": "Python 3",
   "language": "python",
   "name": "python3"
  },
  "language_info": {
   "codemirror_mode": {
    "name": "ipython",
    "version": 3
   },
   "file_extension": ".py",
   "mimetype": "text/x-python",
   "name": "python",
   "nbconvert_exporter": "python",
   "pygments_lexer": "ipython3",
   "version": "3.7.6"
  }
 },
 "nbformat": 4,
 "nbformat_minor": 4
}
